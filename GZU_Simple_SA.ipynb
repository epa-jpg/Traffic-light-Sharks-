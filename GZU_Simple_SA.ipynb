{
  "nbformat": 4,
  "nbformat_minor": 0,
  "metadata": {
    "colab": {
      "provenance": [],
      "include_colab_link": true
    },
    "kernelspec": {
      "name": "python3",
      "display_name": "Python 3"
    },
    "language_info": {
      "name": "python"
    }
  },
  "cells": [
    {
      "cell_type": "markdown",
      "metadata": {
        "id": "view-in-github",
        "colab_type": "text"
      },
      "source": [
        "<a href=\"https://colab.research.google.com/github/epa-jpg/Traffic-light-Sharks-/blob/main/GZU_Simple_SA.ipynb\" target=\"_parent\"><img src=\"https://colab.research.google.com/assets/colab-badge.svg\" alt=\"Open In Colab\"/></a>"
      ]
    },
    {
      "cell_type": "markdown",
      "source": [
        "**Importing the necessary library**"
      ],
      "metadata": {
        "id": "Myyz5nmVR5ea"
      }
    },
    {
      "cell_type": "code",
      "source": [
        "\n"
      ],
      "metadata": {
        "id": "LNHiCxJWHZEt"
      },
      "execution_count": null,
      "outputs": []
    },
    {
      "cell_type": "markdown",
      "source": [
        "**Initialize VADER Sentiment Analyzer:**"
      ],
      "metadata": {
        "id": "gxeCMSYUSJTm"
      }
    },
    {
      "cell_type": "markdown",
      "source": [
        "**Analyze sentiment**"
      ],
      "metadata": {
        "id": "-VfpeP74STYA"
      }
    }
  ]
}