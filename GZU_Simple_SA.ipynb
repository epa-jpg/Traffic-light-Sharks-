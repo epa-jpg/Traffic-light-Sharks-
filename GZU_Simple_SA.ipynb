{
  "nbformat": 4,
  "nbformat_minor": 0,
  "metadata": {
    "colab": {
      "provenance": [],
      "include_colab_link": true
    },
    "kernelspec": {
      "name": "python3",
      "display_name": "Python 3"
    },
    "language_info": {
      "name": "python"
    }
  },
  "cells": [
    {
      "cell_type": "markdown",
      "metadata": {
        "id": "view-in-github",
        "colab_type": "text"
      },
      "source": [
        "<a href=\"https://colab.research.google.com/github/epa-jpg/Traffic-light-Sharks-/blob/main/GZU_Simple_SA.ipynb\" target=\"_parent\"><img src=\"https://colab.research.google.com/assets/colab-badge.svg\" alt=\"Open In Colab\"/></a>"
      ]
    },
    {
      "cell_type": "markdown",
      "source": [
        "**Importing the necessary library**"
      ],
      "metadata": {
        "id": "Myyz5nmVR5ea"
      }
    },
    {
      "cell_type": "code",
      "source": [
        "import nltk\n",
        "nltk.download ('vader_lexicon')\n",
        "from nltk.sentiment.vader import SentimentIntensityAnalyzer\n"
      ],
      "metadata": {
        "id": "LNHiCxJWHZEt",
        "colab": {
          "base_uri": "https://localhost:8080/"
        },
        "outputId": "47fdc4d8-ccde-4b8f-c994-d78bc1aadcb9"
      },
      "execution_count": 1,
      "outputs": [
        {
          "output_type": "stream",
          "name": "stderr",
          "text": [
            "[nltk_data] Downloading package vader_lexicon to /root/nltk_data...\n"
          ]
        }
      ]
    },
    {
      "cell_type": "code",
      "source": [
        "sia = SentimentIntensityAnalyzer ()\n",
        "tweet = \"I had a wonderful day !The weather was perfect : } #happy\"\n",
        "sentiment = sia.polarity_scores (tweet)\n",
        "print(sentiment)\n"
      ],
      "metadata": {
        "colab": {
          "base_uri": "https://localhost:8080/"
        },
        "id": "oPysieUHKzAD",
        "outputId": "2eb76a52-bcd1-4119-88a3-06c8c39668e3"
      },
      "execution_count": 2,
      "outputs": [
        {
          "output_type": "stream",
          "name": "stdout",
          "text": [
            "{'neg': 0.0, 'neu': 0.438, 'pos': 0.562, 'compound': 0.8268}\n"
          ]
        }
      ]
    },
    {
      "cell_type": "markdown",
      "source": [
        "**Initialize VADER Sentiment Analyzer:**"
      ],
      "metadata": {
        "id": "gxeCMSYUSJTm"
      }
    },
    {
      "cell_type": "markdown",
      "source": [
        "**Analyze sentiment**"
      ],
      "metadata": {
        "id": "-VfpeP74STYA"
      }
    }
  ]
}